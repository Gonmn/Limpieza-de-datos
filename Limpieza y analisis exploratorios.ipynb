{
 "cells": [
  {
   "cell_type": "markdown",
   "id": "3Xg_RQfnafXz",
   "metadata": {
    "id": "3Xg_RQfnafXz"
   },
   "source": [
    "# ¡Llena ese carrito!"
   ]
  },
  {
   "cell_type": "markdown",
   "id": "mhIvmmkW414q",
   "metadata": {
    "id": "mhIvmmkW414q"
   },
   "source": [
    "# Introducción\n",
    "\n",
    "Instacart es una plataforma de entregas de comestibles donde la clientela puede registrar un pedido y hacer que se lo entreguen, similar a Uber Eats y Door Dash.\n",
    "El conjunto de datos que te hemos proporcionado tiene modificaciones del original. Redujimos el tamaño del conjunto para que tus cálculos se hicieran más rápido e introdujimos valores ausentes y duplicados. Tuvimos cuidado de conservar las distribuciones de los datos originales cuando hicimos los cambios.\n",
    "\n",
    "Debes completar tres pasos. Para cada uno de ellos, escribe una breve introducción que refleje con claridad cómo pretendes resolver cada paso, y escribe párrafos explicatorios que justifiquen tus decisiones al tiempo que avanzas en tu solución.  También escribe una conclusión que resuma tus hallazgos y elecciones.\n"
   ]
  },
  {
   "cell_type": "markdown",
   "id": "3MbyzpOQZ5Or",
   "metadata": {
    "id": "3MbyzpOQZ5Or"
   },
   "source": [
    "## Diccionario de datos\n",
    "\n",
    "Hay cinco tablas en el conjunto de datos, y tendrás que usarlas todas para hacer el preprocesamiento de datos y el análisis exploratorio de datos. A continuación se muestra un diccionario de datos que enumera las columnas de cada tabla y describe los datos que contienen.\n",
    "\n",
    "- `instacart_orders.csv`: cada fila corresponde a un pedido en la aplicación Instacart.\n",
    "    - `'order_id'`: número de ID que identifica de manera única cada pedido.\n",
    "    - `'user_id'`: número de ID que identifica de manera única la cuenta de cada cliente.\n",
    "    - `'order_number'`: el número de veces que este cliente ha hecho un pedido.\n",
    "    - `'order_dow'`: día de la semana en que se hizo el pedido (0 si es domingo).\n",
    "    - `'order_hour_of_day'`: hora del día en que se hizo el pedido.\n",
    "    - `'days_since_prior_order'`: número de días transcurridos desde que este cliente hizo su pedido anterior.\n",
    "- `products.csv`: cada fila corresponde a un producto único que pueden comprar los clientes.\n",
    "    - `'product_id'`: número ID que identifica de manera única cada producto.\n",
    "    - `'product_name'`: nombre del producto.\n",
    "    - `'aisle_id'`: número ID que identifica de manera única cada categoría de pasillo de víveres.\n",
    "    - `'department_id'`: número ID que identifica de manera única cada departamento de víveres.\n",
    "- `order_products.csv`: cada fila corresponde a un artículo pedido en un pedido.\n",
    "    - `'order_id'`: número de ID que identifica de manera única cada pedido.\n",
    "    - `'product_id'`: número ID que identifica de manera única cada producto.\n",
    "    - `'add_to_cart_order'`: el orden secuencial en el que se añadió cada artículo en el carrito.\n",
    "    - `'reordered'`: 0 si el cliente nunca ha pedido este producto antes, 1 si lo ha pedido.\n",
    "- `aisles.csv`\n",
    "    - `'aisle_id'`: número ID que identifica de manera única cada categoría de pasillo de víveres.\n",
    "    - `'aisle'`: nombre del pasillo.\n",
    "- `departments.csv`\n",
    "    - `'department_id'`: número ID que identifica de manera única cada departamento de víveres.\n",
    "    - `'department'`: nombre del departamento."
   ]
  },
  {
   "cell_type": "markdown",
   "id": "n3Ha_cNSZ8lK",
   "metadata": {
    "id": "n3Ha_cNSZ8lK"
   },
   "source": [
    "# Paso 1. Descripción de los datos\n",
    "\n",
    "Lee los archivos de datos (`/datasets/instacart_orders.csv`, `/datasets/products.csv`, `/datasets/aisles.csv`, `/datasets/departments.csv` y `/datasets/order_products.csv`) con `pd.read_csv()` usando los parámetros adecuados para leer los datos correctamente. Verifica la información para cada DataFrame creado.\n"
   ]
  },
  {
   "cell_type": "markdown",
   "id": "OmlQPLlyaAfR",
   "metadata": {
    "id": "OmlQPLlyaAfR"
   },
   "source": [
    "## Plan de solución\n",
    "\n",
    "Usare el método \"pd.read_csv()\" para leer los DatraFrames agregando el parametro de separador'sep=\";\" para que sea más facil leer los datos, luego usare .info() para ver que información me devulve, en base a eso y a los siguientes requerimientos seguiré avanzando."
   ]
  },
  {
   "cell_type": "code",
   "execution_count": 1,
   "id": "fbf1adab",
   "metadata": {
    "id": "fbf1adab"
   },
   "outputs": [],
   "source": [
    "# importar librerías\n",
    "import pandas as pd\n",
    "import matplotlib.pyplot as plt\n"
   ]
  },
  {
   "cell_type": "code",
   "execution_count": 2,
   "id": "ad36396d",
   "metadata": {
    "id": "ad36396d"
   },
   "outputs": [],
   "source": [
    "# leer conjuntos de datos en los DataFrames\n",
    "orders = pd.read_csv('/datasets/instacart_orders.csv', sep=\";\")\n",
    "products = pd.read_csv(\"/datasets/products.csv\", sep=\";\")\n",
    "aisles = pd.read_csv(\"/datasets/aisles.csv\", sep=\";\")\n",
    "departments = pd.read_csv(\"/datasets/departments.csv\", sep=\";\")\n",
    "order_products = pd.read_csv(\"/datasets/order_products.csv\", sep=\";\")"
   ]
  },
  {
   "cell_type": "code",
   "execution_count": 3,
   "id": "ad6a1efa",
   "metadata": {
    "id": "ad6a1efa"
   },
   "outputs": [
    {
     "name": "stdout",
     "output_type": "stream",
     "text": [
      "<class 'pandas.core.frame.DataFrame'>\n",
      "RangeIndex: 478967 entries, 0 to 478966\n",
      "Data columns (total 6 columns):\n",
      " #   Column                  Non-Null Count   Dtype  \n",
      "---  ------                  --------------   -----  \n",
      " 0   order_id                478967 non-null  int64  \n",
      " 1   user_id                 478967 non-null  int64  \n",
      " 2   order_number            478967 non-null  int64  \n",
      " 3   order_dow               478967 non-null  int64  \n",
      " 4   order_hour_of_day       478967 non-null  int64  \n",
      " 5   days_since_prior_order  450148 non-null  float64\n",
      "dtypes: float64(1), int64(5)\n",
      "memory usage: 21.9 MB\n"
     ]
    }
   ],
   "source": [
    "# mostrar información del DataFrame\n",
    "orders.info()\n"
   ]
  },
  {
   "cell_type": "code",
   "execution_count": 4,
   "id": "5130e05e",
   "metadata": {
    "id": "5130e05e"
   },
   "outputs": [
    {
     "name": "stdout",
     "output_type": "stream",
     "text": [
      "<class 'pandas.core.frame.DataFrame'>\n",
      "RangeIndex: 49694 entries, 0 to 49693\n",
      "Data columns (total 4 columns):\n",
      " #   Column         Non-Null Count  Dtype \n",
      "---  ------         --------------  ----- \n",
      " 0   product_id     49694 non-null  int64 \n",
      " 1   product_name   48436 non-null  object\n",
      " 2   aisle_id       49694 non-null  int64 \n",
      " 3   department_id  49694 non-null  int64 \n",
      "dtypes: int64(3), object(1)\n",
      "memory usage: 1.5+ MB\n"
     ]
    }
   ],
   "source": [
    "# mostrar información del DataFrameproducts.info()\n",
    "products.info()\n"
   ]
  },
  {
   "cell_type": "code",
   "execution_count": 5,
   "id": "d8370c05",
   "metadata": {
    "id": "d8370c05"
   },
   "outputs": [
    {
     "name": "stdout",
     "output_type": "stream",
     "text": [
      "<class 'pandas.core.frame.DataFrame'>\n",
      "RangeIndex: 134 entries, 0 to 133\n",
      "Data columns (total 2 columns):\n",
      " #   Column    Non-Null Count  Dtype \n",
      "---  ------    --------------  ----- \n",
      " 0   aisle_id  134 non-null    int64 \n",
      " 1   aisle     134 non-null    object\n",
      "dtypes: int64(1), object(1)\n",
      "memory usage: 2.2+ KB\n"
     ]
    }
   ],
   "source": [
    "# mostrar información del DataFramedepartments.info()\n",
    "aisles.info()"
   ]
  },
  {
   "cell_type": "code",
   "execution_count": 6,
   "id": "59e2090f",
   "metadata": {
    "id": "59e2090f"
   },
   "outputs": [
    {
     "name": "stdout",
     "output_type": "stream",
     "text": [
      "<class 'pandas.core.frame.DataFrame'>\n",
      "RangeIndex: 21 entries, 0 to 20\n",
      "Data columns (total 2 columns):\n",
      " #   Column         Non-Null Count  Dtype \n",
      "---  ------         --------------  ----- \n",
      " 0   department_id  21 non-null     int64 \n",
      " 1   department     21 non-null     object\n",
      "dtypes: int64(1), object(1)\n",
      "memory usage: 464.0+ bytes\n"
     ]
    }
   ],
   "source": [
    "# mostrar información del DataFrame\n",
    "departments.info()"
   ]
  },
  {
   "cell_type": "code",
   "execution_count": 7,
   "id": "6fc81694",
   "metadata": {
    "id": "6fc81694"
   },
   "outputs": [
    {
     "name": "stdout",
     "output_type": "stream",
     "text": [
      "<class 'pandas.core.frame.DataFrame'>\n",
      "RangeIndex: 4545007 entries, 0 to 4545006\n",
      "Data columns (total 4 columns):\n",
      " #   Column             Dtype  \n",
      "---  ------             -----  \n",
      " 0   order_id           int64  \n",
      " 1   product_id         int64  \n",
      " 2   add_to_cart_order  float64\n",
      " 3   reordered          int64  \n",
      "dtypes: float64(1), int64(3)\n",
      "memory usage: 138.7 MB\n"
     ]
    }
   ],
   "source": [
    "# mostrar información del DataFrame\n",
    "order_products.info()"
   ]
  },
  {
   "cell_type": "markdown",
   "id": "t75BD19oaR5f",
   "metadata": {
    "id": "t75BD19oaR5f"
   },
   "source": [
    "## Conclusiones\n",
    "\n",
    "Escribe aquí tus conclusiones intermedias sobre el Paso 1. Descripción de los datos.\n",
    "\n",
    "Se puede observar que no hay datos nulos en ningun DataFrame, lo que a primera vista nos da la impresion de que los datoes estan completos y depurados, pero para estar 100% seguro de eso habria que examinar cada DataFrame por separado\n"
   ]
  },
  {
   "cell_type": "markdown",
   "id": "8RJHqxVmaVsF",
   "metadata": {
    "id": "8RJHqxVmaVsF"
   },
   "source": [
    "# Paso 2. Preprocesamiento de los datos\n",
    "\n",
    "Preprocesa los datos de la siguiente manera:\n",
    "\n",
    "- Verifica y corrige los tipos de datos (por ejemplo, asegúrate de que las columnas de ID sean números enteros).\n",
    "- Identifica y completa los valores ausentes.\n",
    "- Identifica y elimina los valores duplicados.\n",
    "\n",
    "Asegúrate de explicar qué tipos de valores ausentes y duplicados encontraste, cómo los completaste o eliminaste y por qué usaste esos métodos. ¿Por qué crees que estos valores ausentes y duplicados pueden haber estado presentes en el conjunto de datos?"
   ]
  },
  {
   "cell_type": "markdown",
   "id": "p6poABZQaZYb",
   "metadata": {
    "id": "p6poABZQaZYb"
   },
   "source": [
    "## Plan de solución\n",
    "\n",
    "Sseguiré los pasos estándar para procesar datos, verificar los tipos de datos, identificar y completa los valores ausentes e identifica y elimina los valores duplicados."
   ]
  },
  {
   "cell_type": "markdown",
   "id": "07357848-dc64-4156-9cc3-01ff4365226d",
   "metadata": {
    "id": "07357848-dc64-4156-9cc3-01ff4365226d"
   },
   "source": [
    "## Encuentra y elimina los valores duplicados (y describe cómo tomaste tus decisiones)."
   ]
  },
  {
   "cell_type": "markdown",
   "id": "f179f0a9",
   "metadata": {
    "id": "f179f0a9"
   },
   "source": [
    "### `orders` data frame"
   ]
  },
  {
   "cell_type": "code",
   "execution_count": 8,
   "id": "b99297a5-405a-463d-8535-9adc3da4ad74",
   "metadata": {
    "id": "b99297a5-405a-463d-8535-9adc3da4ad74"
   },
   "outputs": [
    {
     "name": "stdout",
     "output_type": "stream",
     "text": [
      "        order_id  user_id  order_number  order_dow  order_hour_of_day  \\\n",
      "30371    1918001   188546            14          3                  2   \n",
      "99462     794638    50898            24          3                  2   \n",
      "119251    408114    68324             4          3                  2   \n",
      "142258   2845099    31189            11          3                  2   \n",
      "145574    794638    50898            24          3                  2   \n",
      "164581   1112182   202304            84          3                  2   \n",
      "200059   1782114   106752             1          3                  2   \n",
      "204042   2125197    14050            48          3                  2   \n",
      "215294   2160484   107525            16          3                  2   \n",
      "223105   2160484   107525            16          3                  2   \n",
      "230807   1918001   188546            14          3                  2   \n",
      "242618   1021560    53767             3          3                  2   \n",
      "250626    467134    63189            21          3                  2   \n",
      "257934   1919531   191501            32          3                  2   \n",
      "259636   2282673    86751            49          3                  2   \n",
      "266232   1782114   106752             1          3                  2   \n",
      "273805   1112182   202304            84          3                  2   \n",
      "284038   2845099    31189            11          3                  2   \n",
      "311713   1021560    53767             3          3                  2   \n",
      "314427   1286742   183220            48          3                  2   \n",
      "321100    408114    68324             4          3                  2   \n",
      "323900   1919531   191501            32          3                  2   \n",
      "324868   2232988    82565             1          3                  2   \n",
      "345917   2232988    82565             1          3                  2   \n",
      "354993    391768    57671            19          3                  2   \n",
      "371905    391768    57671            19          3                  2   \n",
      "394347    467134    63189            21          3                  2   \n",
      "411408   1286742   183220            48          3                  2   \n",
      "415163   2282673    86751            49          3                  2   \n",
      "441599   2125197    14050            48          3                  2   \n",
      "\n",
      "        days_since_prior_order  \n",
      "30371                     16.0  \n",
      "99462                      2.0  \n",
      "119251                    18.0  \n",
      "142258                     7.0  \n",
      "145574                     2.0  \n",
      "164581                     6.0  \n",
      "200059                     NaN  \n",
      "204042                     3.0  \n",
      "215294                    30.0  \n",
      "223105                    30.0  \n",
      "230807                    16.0  \n",
      "242618                     9.0  \n",
      "250626                     2.0  \n",
      "257934                     7.0  \n",
      "259636                     2.0  \n",
      "266232                     NaN  \n",
      "273805                     6.0  \n",
      "284038                     7.0  \n",
      "311713                     9.0  \n",
      "314427                     4.0  \n",
      "321100                    18.0  \n",
      "323900                     7.0  \n",
      "324868                     NaN  \n",
      "345917                     NaN  \n",
      "354993                    10.0  \n",
      "371905                    10.0  \n",
      "394347                     2.0  \n",
      "411408                     4.0  \n",
      "415163                     2.0  \n",
      "441599                     3.0  \n"
     ]
    }
   ],
   "source": [
    " # Revisa si hay pedidos duplicados\n",
    "print(orders[orders['order_id'].duplicated(keep=False)])\n"
   ]
  },
  {
   "cell_type": "markdown",
   "id": "PEkwUX_gvt5A",
   "metadata": {
    "id": "PEkwUX_gvt5A"
   },
   "source": [
    "¿Tienes líneas duplicadas? Si sí, ¿qué tienen en común?\n",
    "\n",
    "Hay 15 pedidos duplicados, que coinciden con los user_id pero solo se duplican el dow 3 a las 2"
   ]
  },
  {
   "cell_type": "code",
   "execution_count": 9,
   "id": "0d44de5d",
   "metadata": {
    "id": "0d44de5d"
   },
   "outputs": [
    {
     "name": "stdout",
     "output_type": "stream",
     "text": [
      "121\n"
     ]
    }
   ],
   "source": [
    "# Basándote en tus hallazgos,\n",
    "# Verifica todos los pedidos que se hicieron el miércoles a las 2:00 a.m.\n",
    "print(len(orders[(orders['order_dow'] == 3) & (orders['order_hour_of_day'] == 2)]))\n"
   ]
  },
  {
   "cell_type": "markdown",
   "id": "vu2OWyoqwOx5",
   "metadata": {
    "id": "vu2OWyoqwOx5"
   },
   "source": [
    "¿Qué sugiere este resultado?\n",
    "\n",
    "\n",
    "La verdad no mucho, el DataFrame tiene 478.967 filas, es decir 478.967 pedidos, de esos pedidos 121 es un numero muy pequeño, más aún cuando aun no depuramos los datos eliminando los duplicados, verificando los nombres de las columnas, contando valores ausentes etc. Despues de la limpieza podremos sacar más conclusiones"
   ]
  },
  {
   "cell_type": "code",
   "execution_count": 10,
   "id": "480563c7",
   "metadata": {
    "id": "480563c7"
   },
   "outputs": [
    {
     "name": "stdout",
     "output_type": "stream",
     "text": [
      "        order_id  user_id  order_number  order_dow  order_hour_of_day  \\\n",
      "0        1515936   183418            11          6                 13   \n",
      "1        1690866   163593             5          5                 12   \n",
      "2        1454967    39980             4          5                 19   \n",
      "3        1768857    82516            56          0                 20   \n",
      "4        3007858   196724             2          4                 12   \n",
      "...          ...      ...           ...        ...                ...   \n",
      "478947   3210681     5617             5          1                 14   \n",
      "478948   3270802   112087             2          3                 13   \n",
      "478949    885349    82944            16          2                 11   \n",
      "478950    216274     4391             3          3                  8   \n",
      "478951   2071924     1730            18          1                 14   \n",
      "\n",
      "        days_since_prior_order  \n",
      "0                         30.0  \n",
      "1                          9.0  \n",
      "2                          2.0  \n",
      "3                         10.0  \n",
      "4                         17.0  \n",
      "...                        ...  \n",
      "478947                     7.0  \n",
      "478948                     6.0  \n",
      "478949                     6.0  \n",
      "478950                     8.0  \n",
      "478951                    15.0  \n",
      "\n",
      "[478952 rows x 6 columns]\n"
     ]
    }
   ],
   "source": [
    "# Elimina los pedidos duplicados\n",
    "orders_sin_pedidos_duplicados = orders.drop_duplicates(subset='order_id', keep='first').reset_index(drop=True)\n",
    "print(orders_sin_pedidos_duplicados)\n"
   ]
  },
  {
   "cell_type": "code",
   "execution_count": 11,
   "id": "0b2396a2",
   "metadata": {
    "id": "0b2396a2"
   },
   "outputs": [
    {
     "name": "stdout",
     "output_type": "stream",
     "text": [
      "Número de filas duplicadas: 0\n"
     ]
    }
   ],
   "source": [
    "# Vuelve a verificar si hay filas duplicadas\n",
    "df_sin_pedidos_duplicados= orders_sin_pedidos_duplicados.duplicated().sum()\n",
    "print(\"Número de filas duplicadas:\",df_sin_pedidos_duplicados)"
   ]
  },
  {
   "cell_type": "code",
   "execution_count": 12,
   "id": "f6113ef1",
   "metadata": {
    "id": "f6113ef1"
   },
   "outputs": [
    {
     "name": "stdout",
     "output_type": "stream",
     "text": [
      "Número de IDs duplicados: 0\n"
     ]
    }
   ],
   "source": [
    "# Vuelve a verificar únicamente si hay IDs duplicados de pedidos\n",
    "ids_verificados=orders_sin_pedidos_duplicados['order_id'].duplicated().sum()\n",
    "print(\"Número de IDs duplicados:\",ids_verificados)"
   ]
  },
  {
   "cell_type": "markdown",
   "id": "5e8905ae",
   "metadata": {
    "id": "5e8905ae"
   },
   "source": [
    "Identifiqué y eliminé los duplicados"
   ]
  },
  {
   "cell_type": "markdown",
   "id": "45e6bc46",
   "metadata": {
    "id": "45e6bc46"
   },
   "source": [
    "### `products` data frame"
   ]
  },
  {
   "cell_type": "code",
   "execution_count": 13,
   "id": "5f526b5b-8175-46fa-a0fd-441767d50e64",
   "metadata": {
    "id": "5f526b5b-8175-46fa-a0fd-441767d50e64"
   },
   "outputs": [
    {
     "name": "stdout",
     "output_type": "stream",
     "text": [
      "Número de filas duplicadas: 0\n"
     ]
    }
   ],
   "source": [
    "# Verifica si hay filas totalmente duplicadas\n",
    "print('Número de filas duplicadas:', products.duplicated().sum())"
   ]
  },
  {
   "cell_type": "code",
   "execution_count": 14,
   "id": "88daa4f4",
   "metadata": {
    "id": "88daa4f4"
   },
   "outputs": [
    {
     "name": "stdout",
     "output_type": "stream",
     "text": [
      "Número de IDs de departamento duplicados: 49673\n"
     ]
    }
   ],
   "source": [
    "# Revisa únicamente si hay ID de departamentos duplicados\n",
    "print('Número de IDs de departamento duplicados:', products['department_id'].duplicated().sum())\n"
   ]
  },
  {
   "cell_type": "code",
   "execution_count": 15,
   "id": "c773f0bf",
   "metadata": {
    "id": "c773f0bf"
   },
   "outputs": [
    {
     "name": "stdout",
     "output_type": "stream",
     "text": [
      "71                                                   NaN\n",
      "109                                                  NaN\n",
      "296                                                  NaN\n",
      "416                                                  NaN\n",
      "436                                                  NaN\n",
      "                              ...                       \n",
      "49689                      HIGH PERFORMANCE ENERGY DRINK\n",
      "49690                      ORIGINAL PANCAKE & WAFFLE MIX\n",
      "49691    ORGANIC INSTANT OATMEAL LIGHT MAPLE BROWN SUGAR\n",
      "49692                             SPRING WATER BODY WASH\n",
      "49693                            BURRITO- STEAK & CHEESE\n",
      "Name: product_name, Length: 1361, dtype: object\n"
     ]
    }
   ],
   "source": [
    "# Revisa únicamente si hay nombres duplicados de productos (convierte los nombres a letras mayúsculas para compararlos mejor)\n",
    "duplicados = products['product_name'].str.upper().duplicated()\n",
    "nombres_duplicados = products.loc[duplicados, 'product_name']\n",
    "print(nombres_duplicados)"
   ]
  },
  {
   "cell_type": "code",
   "execution_count": 16,
   "id": "01efd02e",
   "metadata": {
    "id": "01efd02e"
   },
   "outputs": [
    {
     "name": "stdout",
     "output_type": "stream",
     "text": [
      "Número de nombres duplicados de productos no faltantes: 104\n"
     ]
    }
   ],
   "source": [
    "# Revisa si hay nombres duplicados de productos no faltantes\n",
    "filtro_1_duplicated = products['product_name'].str.upper().duplicated()\n",
    "filtro_2_duplicated = products['product_name'].isna()\n",
    "\n",
    "duplicados = products[(filtro_1_duplicated) & ~(filtro_2_duplicated)].shape[0]\n",
    "print(\"Número de nombres duplicados de productos no faltantes:\", duplicados)"
   ]
  },
  {
   "cell_type": "markdown",
   "id": "9da8d293",
   "metadata": {
    "id": "9da8d293"
   },
   "source": [
    "Solo me estoy limitando a lo que se me ha pedido asi que solo busqué si habían filas totalmemte duplicada en el DataFrame, ádemas de buscar, identificar y cambiar a mayuscula los nnombres de productos duplicados que hay en la columna 'product_name' los cuales son muchos 1257"
   ]
  },
  {
   "cell_type": "markdown",
   "id": "60f30db1",
   "metadata": {
    "id": "60f30db1"
   },
   "source": [
    "### `departments` data frame"
   ]
  },
  {
   "cell_type": "code",
   "execution_count": 17,
   "id": "fb410ad4-0fbf-4b80-bb09-23fdea79afe3",
   "metadata": {
    "id": "fb410ad4-0fbf-4b80-bb09-23fdea79afe3"
   },
   "outputs": [
    {
     "name": "stdout",
     "output_type": "stream",
     "text": [
      "Número de filas duplicadas: 0\n"
     ]
    }
   ],
   "source": [
    "# Revisa si hay filas totalmente duplicadas\n",
    "print('Número de filas duplicadas:', departments.duplicated().sum())"
   ]
  },
  {
   "cell_type": "code",
   "execution_count": 18,
   "id": "332b12bb",
   "metadata": {
    "id": "332b12bb"
   },
   "outputs": [
    {
     "name": "stdout",
     "output_type": "stream",
     "text": [
      "Número de duplicados en columna \"department_id\": 0\n",
      "Número de duplicados en columna \"department\": 0\n"
     ]
    }
   ],
   "source": [
    "# Revisa únicamente si hay IDs duplicadas de productos\n",
    "# El DF \"departments\" no tiene IDs de productos, sin embargo no hay dublicadosen sus dos únicas columnas (department_id o en departmet)\n",
    "print('Número de duplicados en columna \"department_id\":', departments['department_id'].duplicated().sum())\n",
    "print('Número de duplicados en columna \"department\":', departments['department'].duplicated().sum())\n"
   ]
  },
  {
   "cell_type": "markdown",
   "id": "bd30d78e",
   "metadata": {
    "id": "bd30d78e"
   },
   "source": [
    "Es un DataFrame sin duplicados y bastante pequeño sin datos duplicados, ausentes ni nulos\n"
   ]
  },
  {
   "cell_type": "markdown",
   "id": "889349c1",
   "metadata": {
    "id": "889349c1"
   },
   "source": [
    "### `aisles` data frame"
   ]
  },
  {
   "cell_type": "code",
   "execution_count": 19,
   "id": "9da89fb9-4679-40f5-ad0d-c34df753a3f8",
   "metadata": {
    "id": "9da89fb9-4679-40f5-ad0d-c34df753a3f8"
   },
   "outputs": [
    {
     "name": "stdout",
     "output_type": "stream",
     "text": [
      "Número de filas duplicadas: 0\n"
     ]
    }
   ],
   "source": [
    "# Revisa si hay filas totalmente duplicadas\n",
    "print('Número de filas duplicadas:', aisles.duplicated().sum())"
   ]
  },
  {
   "cell_type": "code",
   "execution_count": 20,
   "id": "da7c2822",
   "metadata": {
    "id": "da7c2822"
   },
   "outputs": [
    {
     "name": "stdout",
     "output_type": "stream",
     "text": [
      "Número de duplicados en columna \"aisle_id\": 0\n"
     ]
    }
   ],
   "source": [
    "# Revisa únicamente si hay IDs duplicadas de productos\n",
    "print('Número de duplicados en columna \"aisle_id\":', aisles['aisle_id'].duplicated().sum())"
   ]
  },
  {
   "cell_type": "markdown",
   "id": "ac63826f",
   "metadata": {
    "id": "ac63826f"
   },
   "source": [
    "Busqué duplicados y no se encontraron"
   ]
  },
  {
   "cell_type": "markdown",
   "id": "274cd06a",
   "metadata": {
    "id": "274cd06a"
   },
   "source": [
    "### `order_products` data frame"
   ]
  },
  {
   "cell_type": "code",
   "execution_count": 21,
   "id": "52326689-84a8-4b8f-a881-7c68780f62c9",
   "metadata": {
    "id": "52326689-84a8-4b8f-a881-7c68780f62c9"
   },
   "outputs": [
    {
     "name": "stdout",
     "output_type": "stream",
     "text": [
      "Número de filas duplicadas: 0\n"
     ]
    }
   ],
   "source": [
    "# Revisa si hay filas totalmente duplicadas\n",
    "print('Número de filas duplicadas:', order_products.duplicated().sum())\n"
   ]
  },
  {
   "cell_type": "code",
   "execution_count": 22,
   "id": "7b861391",
   "metadata": {
    "id": "7b861391"
   },
   "outputs": [
    {
     "name": "stdout",
     "output_type": "stream",
     "text": [
      "Número de duplicados engañosos:  0\n"
     ]
    }
   ],
   "source": [
    "# Vuelve a verificar si hay cualquier otro duplicado engañoso\n",
    "columns = ['order_id', 'product_id', 'add_to_cart_order', 'reordered']\n",
    "duplicados_ocultos = order_products.duplicated(subset=columns)\n",
    "print(\"Número de duplicados engañosos: \", duplicados_ocultos.sum())\n"
   ]
  },
  {
   "cell_type": "markdown",
   "id": "0b890492",
   "metadata": {
    "id": "0b890492"
   },
   "source": [
    "Hice una busqueda exaustiva buscando duplicados engañosos la cual arrojó que no los hay."
   ]
  },
  {
   "cell_type": "markdown",
   "id": "1e46de76",
   "metadata": {
    "id": "1e46de76"
   },
   "source": [
    "## Encuentrar y elimina los valores ausentes\n",
    "\n",
    "Al trabajar con valores duplicados, pudimos observar que también nos falta investigar valores ausentes:\n",
    "\n",
    "* La columna `'product_name'` de la tabla products.\n",
    "* La columna `'days_since_prior_order'` de la tabla orders.\n",
    "* La columna `'add_to_cart_order'` de la tabla order_productos."
   ]
  },
  {
   "cell_type": "markdown",
   "id": "c0aebd78",
   "metadata": {
    "id": "c0aebd78"
   },
   "source": [
    "### `products` data frame"
   ]
  },
  {
   "cell_type": "code",
   "execution_count": 23,
   "id": "fe4a8b0f",
   "metadata": {
    "id": "fe4a8b0f"
   },
   "outputs": [
    {
     "name": "stdout",
     "output_type": "stream",
     "text": [
      "Hay 1258 en la columna 'product_name'\n"
     ]
    }
   ],
   "source": [
    "# Encuentra los valores ausentes en la columna 'product_name'\n",
    "valores_ausentes=products[\"product_name\"].isnull().sum()\n",
    "print(\"Hay\",valores_ausentes,\"en la columna 'product_name'\")"
   ]
  },
  {
   "cell_type": "markdown",
   "id": "-A6x1AbJhjkp",
   "metadata": {
    "id": "-A6x1AbJhjkp"
   },
   "source": [
    "Son 1258 valores ausentes en un DataFrame con 49,694. Esto es el 2.53%. A simple vista, no parece muy relevante, pero hay que ver a qué se relacionan esos valores ausentes para sacar más conclusiones."
   ]
  },
  {
   "cell_type": "code",
   "execution_count": 24,
   "id": "e96167bc",
   "metadata": {
    "id": "e96167bc"
   },
   "outputs": [
    {
     "name": "stdout",
     "output_type": "stream",
     "text": [
      "Las filas con valores ausentes en la columna 'product_name' y un valor de 100 en la columna 'aisle_id' son:\n",
      "\n",
      "      product_name  aisle_id\n",
      "37             NaN       100\n",
      "71             NaN       100\n",
      "109            NaN       100\n",
      "296            NaN       100\n",
      "416            NaN       100\n",
      "...            ...       ...\n",
      "49552          NaN       100\n",
      "49574          NaN       100\n",
      "49640          NaN       100\n",
      "49663          NaN       100\n",
      "49668          NaN       100\n",
      "\n",
      "[1258 rows x 2 columns]\n"
     ]
    }
   ],
   "source": [
    "#  ¿Todos los nombres de productos ausentes están relacionados con el pasillo con ID 100?\n",
    "valores_ausentes= products.loc[(products['product_name'].isnull()) & (products['aisle_id'] == 100), ['product_name', 'aisle_id']]\n",
    "print(f\"Las filas con valores ausentes en la columna 'product_name' y un valor de 100 en la columna 'aisle_id' son:\\n\\n{valores_ausentes}\")\n"
   ]
  },
  {
   "cell_type": "markdown",
   "id": "WRpIfXRphpSL",
   "metadata": {
    "id": "WRpIfXRphpSL"
   },
   "source": [
    "Si, todos los valores ausentes se relacionan al pasillo 100"
   ]
  },
  {
   "cell_type": "code",
   "execution_count": 25,
   "id": "8fd0a541",
   "metadata": {
    "id": "8fd0a541"
   },
   "outputs": [
    {
     "name": "stdout",
     "output_type": "stream",
     "text": [
      "Las filas con valores ausentes en la columna 'product_name' y un valor de 100 en la columna 'aisle_id' son:\n",
      "\n",
      "      product_name  department_id\n",
      "37             NaN             21\n",
      "71             NaN             21\n",
      "109            NaN             21\n",
      "296            NaN             21\n",
      "416            NaN             21\n",
      "...            ...            ...\n",
      "49552          NaN             21\n",
      "49574          NaN             21\n",
      "49640          NaN             21\n",
      "49663          NaN             21\n",
      "49668          NaN             21\n",
      "\n",
      "[1258 rows x 2 columns]\n"
     ]
    }
   ],
   "source": [
    "# ¿Todos los nombres de productos ausentes están relacionados con el departamento con ID 21?\n",
    "valores_ausentes= products.loc[(products['product_name'].isnull()) & (products['department_id'] == 21), ['product_name', 'department_id']]\n",
    "print(f\"Las filas con valores ausentes en la columna 'product_name' y un valor de 100 en la columna 'aisle_id' son:\\n\\n{valores_ausentes}\")\n"
   ]
  },
  {
   "cell_type": "markdown",
   "id": "qDpdYn1Fht_I",
   "metadata": {
    "id": "qDpdYn1Fht_I"
   },
   "source": [
    "Si, todos los valores ausentes se relacionan al valor 21 de la columna 'departmet_id'"
   ]
  },
  {
   "cell_type": "code",
   "execution_count": 26,
   "id": "325c3464",
   "metadata": {
    "id": "325c3464"
   },
   "outputs": [
    {
     "name": "stdout",
     "output_type": "stream",
     "text": [
      "Las filas con valores ausentes en la columna 'product_name' y un valor de 100 en la columna 'aisle_id' son:\n",
      "\n",
      "      product_name  aisle_id  department_id\n",
      "37             NaN       100             21\n",
      "71             NaN       100             21\n",
      "109            NaN       100             21\n",
      "296            NaN       100             21\n",
      "416            NaN       100             21\n",
      "...            ...       ...            ...\n",
      "49552          NaN       100             21\n",
      "49574          NaN       100             21\n",
      "49640          NaN       100             21\n",
      "49663          NaN       100             21\n",
      "49668          NaN       100             21\n",
      "\n",
      "[1258 rows x 3 columns]\n"
     ]
    }
   ],
   "source": [
    "# Usa las tablas department y aisle para revisar los datos del pasillo con ID 100 y el departamento con ID 21.\n",
    "valores_ausentes= products.loc[(products['product_name'].isnull()) & (products['aisle_id'] == 100) & (products['department_id'] == 21), ['product_name', 'aisle_id', 'department_id']]\n",
    "print(f\"Las filas con valores ausentes en la columna 'product_name' y un valor de 100 en la columna 'aisle_id' son:\\n\\n{valores_ausentes}\")\n",
    "\n"
   ]
  },
  {
   "cell_type": "markdown",
   "id": "nqhSTUPhhvEJ",
   "metadata": {
    "id": "nqhSTUPhhvEJ"
   },
   "source": [
    "Describe brevemente cuáles son tus hallazgos.\n",
    "\n",
    "Hay que reponer el pasillo 21 y ver por que todos los valores ausentes son de ese pasillo y ese departameto"
   ]
  },
  {
   "cell_type": "code",
   "execution_count": 27,
   "id": "6b295120",
   "metadata": {
    "id": "6b295120"
   },
   "outputs": [
    {
     "name": "stdout",
     "output_type": "stream",
     "text": [
      "      product_name\n",
      "37         Unknown\n",
      "71         Unknown\n",
      "109        Unknown\n",
      "296        Unknown\n",
      "416        Unknown\n",
      "...            ...\n",
      "49552      Unknown\n",
      "49574      Unknown\n",
      "49640      Unknown\n",
      "49663      Unknown\n",
      "49668      Unknown\n",
      "\n",
      "[1258 rows x 1 columns]\n"
     ]
    }
   ],
   "source": [
    "# Completa los nombres de productos ausentes con 'Unknown'\n",
    "products['product_name'].fillna('Unknown', inplace=True)\n",
    "\n",
    "\n",
    "print(products.loc[products['product_name'] == 'Unknown', ['product_name']])\n"
   ]
  },
  {
   "cell_type": "markdown",
   "id": "fc70e5ad",
   "metadata": {
    "id": "fc70e5ad"
   },
   "source": [
    "Describe brevemente tus hallazgos y lo que hiciste con ellos.\n",
    "Ahora, todos los valores ausentes que hallé en la columna 'product_name' han sido cambiados por 'Unknown'."
   ]
  },
  {
   "cell_type": "markdown",
   "id": "7eb45c86",
   "metadata": {
    "id": "7eb45c86"
   },
   "source": [
    "### `orders` data frame"
   ]
  },
  {
   "cell_type": "code",
   "execution_count": 28,
   "id": "93e41d96",
   "metadata": {
    "id": "93e41d96"
   },
   "outputs": [
    {
     "name": "stdout",
     "output_type": "stream",
     "text": [
      "order_id                      0\n",
      "user_id                       0\n",
      "order_number                  0\n",
      "order_dow                     0\n",
      "order_hour_of_day             0\n",
      "days_since_prior_order    28817\n",
      "dtype: int64\n"
     ]
    }
   ],
   "source": [
    "# Encuentra los valores ausentes\n",
    "print(orders_sin_pedidos_duplicados.isnull().sum())"
   ]
  },
  {
   "cell_type": "code",
   "execution_count": 29,
   "id": "166e5a86",
   "metadata": {
    "id": "166e5a86"
   },
   "outputs": [
    {
     "name": "stdout",
     "output_type": "stream",
     "text": [
      "Empty DataFrame\n",
      "Columns: [order_id, user_id, order_number, order_dow, order_hour_of_day, days_since_prior_order]\n",
      "Index: []\n"
     ]
    }
   ],
   "source": [
    "# ¿Hay algún valor ausente que no sea el primer pedido del cliente?\n",
    "print(orders_sin_pedidos_duplicados.loc[(orders_sin_pedidos_duplicados['order_number'].isnull()) & (orders_sin_pedidos_duplicados['order_id'] != 1)])\n"
   ]
  },
  {
   "cell_type": "markdown",
   "id": "4e23d089",
   "metadata": {
    "id": "4e23d089"
   },
   "source": [
    "Describe brevemente tus hallazgos y lo que hiciste con ellos.\n",
    "\n",
    "Al parecer todos los valores ausentes estan en la columna 'days_since_prior_order'  y son 28819 de los 3421083 valores de la columna "
   ]
  },
  {
   "cell_type": "markdown",
   "id": "69dc9ca4",
   "metadata": {
    "id": "69dc9ca4"
   },
   "source": [
    "### `order_products` data frame"
   ]
  },
  {
   "cell_type": "code",
   "execution_count": 30,
   "id": "b8240253",
   "metadata": {
    "id": "b8240253"
   },
   "outputs": [
    {
     "name": "stdout",
     "output_type": "stream",
     "text": [
      "order_id               0\n",
      "product_id             0\n",
      "add_to_cart_order    836\n",
      "reordered              0\n",
      "dtype: int64\n"
     ]
    }
   ],
   "source": [
    "\n",
    "print(order_products.isnull().sum())"
   ]
  },
  {
   "cell_type": "code",
   "execution_count": 31,
   "id": "9a78e5ee",
   "metadata": {
    "id": "9a78e5ee"
   },
   "outputs": [
    {
     "name": "stdout",
     "output_type": "stream",
     "text": [
      "min     1.0\n",
      "max    64.0\n",
      "Name: add_to_cart_order, dtype: float64\n"
     ]
    }
   ],
   "source": [
    "\n",
    "print(order_products['add_to_cart_order'].agg(['min', 'max']))\n",
    "\n"
   ]
  },
  {
   "cell_type": "markdown",
   "id": "-Z2Ja215jW78",
   "metadata": {
    "id": "-Z2Ja215jW78"
   },
   "source": [
    "Se puede decir que los clientes ordenan hasta 64 articulos"
   ]
  },
  {
   "cell_type": "code",
   "execution_count": 32,
   "id": "ab9d0c2b",
   "metadata": {
    "id": "ab9d0c2b"
   },
   "outputs": [
    {
     "name": "stdout",
     "output_type": "stream",
     "text": [
      "0\n"
     ]
    }
   ],
   "source": [
    "\n",
    "new_order_products=order_products[order_products['add_to_cart_order'].isna()]['order_id']\n",
    "print(new_order_products.isnull().sum())"
   ]
  },
  {
   "cell_type": "code",
   "execution_count": 33,
   "id": "54c31695",
   "metadata": {
    "id": "54c31695"
   },
   "outputs": [
    {
     "name": "stdout",
     "output_type": "stream",
     "text": [
      "¿Todos los pedidos con valores ausentes tienen más de 64 productos?\n",
      "True\n",
      "Los IDs de pedidos con datos ausentes son los siguientes:\n",
      "[2449164 1968313 2926893 1717990 1959075  844733   61355  936852  264710\n",
      " 1564093  129627  293169 2849370 1386261 3308010  903110 2136777 3347453\n",
      " 1888628  165801 2094761 1038146 2997021  813364 2256933  171934 2409109\n",
      " 1730767 1169835  733526  404157 3125735  747668 1800005 1961723  871281\n",
      "  388234 1648217 1477139  102236 1021563 1832957 2721963  678116 1220886\n",
      " 1673227 2999801 1633337 2470674 2625444 1677118 2479011 3383594 1183255\n",
      " 1713430 2652650 1598369 1916118  854647 1302315  888470  180546 2621907\n",
      " 1308785 2729254    9310 2170451 2979697 1625713 1529171]\n"
     ]
    }
   ],
   "source": [
    "# ¿Todos los pedidos con valores ausentes tienen más de 64 productos?\n",
    "ids_perdidos= all(value > 64 for value in order_products[order_products['order_id'].isna()]['add_to_cart_order'])\n",
    "print('¿Todos los pedidos con valores ausentes tienen más de 64 productos?')\n",
    "print(ids_perdidos)\n",
    "\n",
    "print('Los IDs de pedidos con datos ausentes son los siguientes:')\n",
    "ids_perdidos_agrupados = order_products[order_products.isna().any(axis=1)]['order_id'].unique()\n",
    "print(ids_perdidos_agrupados)\n",
    "\n",
    "#----------Este me la ganó, aquí necesitaré ayuda------------\n"
   ]
  },
  {
   "cell_type": "code",
   "execution_count": 34,
   "id": "7a987d08",
   "metadata": {
    "id": "7a987d08"
   },
   "outputs": [
    {
     "name": "stdout",
     "output_type": "stream",
     "text": [
      "Valores ausentes en 'add_to_cart_order': 0 y Tipo de datos de 'add_to_cart_order': int64\n"
     ]
    }
   ],
   "source": [
    "order_products['add_to_cart_order'] = order_products['add_to_cart_order'].fillna(999).astype(int)\n",
    "print(\"Valores ausentes en 'add_to_cart_order':\", order_products['add_to_cart_order'].isna().sum(), \"y Tipo de datos de 'add_to_cart_order':\", order_products['add_to_cart_order'].dtype)"
   ]
  },
  {
   "cell_type": "markdown",
   "id": "RnplPFY1gSrb",
   "metadata": {
    "id": "RnplPFY1gSrb"
   },
   "source": [
    "## Conclusiones\n",
    "\n",
    "Escribe aquí tus conclusiones intermedias sobre el Paso 2. Preprocesamiento de los datos\n",
    "\n",
    "Si bien en genereal hay datos faltantes, datos nulos y datos duplicados en los DaraFrame, son porcentajes menores y producto de inconsistencias a la hora de recoger los datos, un ejemplo de esto es los datos duplicados a las 2pm en el Dataframe 'orders'"
   ]
  },
  {
   "cell_type": "markdown",
   "id": "UjrOIwTcz3ri",
   "metadata": {
    "id": "UjrOIwTcz3ri"
   },
   "source": [
    "\n",
    "# Paso 3. Análisis de los datos\n",
    "\n",
    "Una vez los datos estén procesados y listos, haz el siguiente análisis:"
   ]
  },
  {
   "cell_type": "markdown",
   "id": "turkish-kidney",
   "metadata": {
    "id": "turkish-kidney"
   },
   "source": [
    "# \n",
    "1. Verificar que los valores en las columnas `'order_hour_of_day'` y `'order_dow'` en la tabla orders sean razonables (es decir, `'order_hour_of_day'` oscile entre 0 y 23 y `'order_dow'` oscile entre 0 y 6).\n",
    "2. Crear un gráfico que muestre el número de personas que hacen pedidos dependiendo de la hora del día.\n",
    "3. Crear un gráfico que muestre qué día de la semana la gente hace sus compras.\n",
    "4. Crear un gráfico que muestre el tiempo que la gente espera hasta hacer su siguiente pedido, y comenta sobre los valores mínimos y máximos."
   ]
  },
  {
   "cell_type": "markdown",
   "id": "short-capability",
   "metadata": {
    "id": "short-capability"
   },
   "source": [
    "### Verifica que los valores sean sensibles"
   ]
  },
  {
   "cell_type": "code",
   "execution_count": 35,
   "id": "growing-fruit",
   "metadata": {
    "id": "growing-fruit"
   },
   "outputs": [
    {
     "name": "stdout",
     "output_type": "stream",
     "text": [
      "Empty DataFrame\n",
      "Columns: [order_id, user_id, order_number, order_dow, order_hour_of_day, days_since_prior_order]\n",
      "Index: []\n"
     ]
    }
   ],
   "source": [
    "print(orders_sin_pedidos_duplicados[(orders_sin_pedidos_duplicados['order_hour_of_day'] < 0) | (orders_sin_pedidos_duplicados['order_hour_of_day'] > 23)])"
   ]
  },
  {
   "cell_type": "code",
   "execution_count": 36,
   "id": "accessory-malaysia",
   "metadata": {
    "id": "accessory-malaysia"
   },
   "outputs": [
    {
     "name": "stdout",
     "output_type": "stream",
     "text": [
      "Empty DataFrame\n",
      "Columns: [order_id, user_id, order_number, order_dow, order_hour_of_day, days_since_prior_order]\n",
      "Index: []\n"
     ]
    }
   ],
   "source": [
    "print(orders_sin_pedidos_duplicados[(orders_sin_pedidos_duplicados['order_dow'] < 0) | (orders_sin_pedidos_duplicados['order_dow'] > 6)])"
   ]
  },
  {
   "cell_type": "markdown",
   "id": "hmR2GNQ6lCsX",
   "metadata": {
    "id": "hmR2GNQ6lCsX"
   },
   "source": [
    "Conclusiones\n",
    "\n",
    "Los datos son sensibles"
   ]
  },
  {
   "cell_type": "markdown",
   "id": "a6743a70",
   "metadata": {
    "id": "a6743a70"
   },
   "source": [
    "### Para cada hora del día, ¿cuántas personas hacen órdenes?"
   ]
  },
  {
   "cell_type": "code",
   "execution_count": 37,
   "id": "a36cca27",
   "metadata": {
    "id": "a36cca27"
   },
   "outputs": [
    {
     "data": {
      "image/png": "[encoded data removed]",
      "text/plain": [
       "<Figure size 720x432 with 1 Axes>"
      ]
     },
     "metadata": {
      "needs_background": "light"
     },
     "output_type": "display_data"
    }
   ],
   "source": [
    "personas_por_hora = orders_sin_pedidos_duplicados.groupby('order_hour_of_day')['user_id'].nunique()\n",
    "\n",
    "plt.figure(figsize=(10, 6))\n",
    "plt.bar(personas_por_hora.index, personas_por_hora.values, color='skyblue')\n",
    "plt.xlabel('Hora del día')\n",
    "plt.ylabel('Número de usuarios')\n",
    "plt.title('Relación usuarios X  hora del día')\n",
    "plt.xticks(range(24))\n",
    "plt.grid(True)\n",
    "plt.show()"
   ]
  },
  {
   "cell_type": "markdown",
   "id": "11270eed",
   "metadata": {
    "id": "11270eed"
   },
   "source": [
    "Escribe aquí tus conclusiones\n",
    "\n",
    "El rango horario con mayor concentración de pedido es de 10:00-16:00"
   ]
  },
  {
   "cell_type": "markdown",
   "id": "documented-command",
   "metadata": {
    "id": "documented-command"
   },
   "source": [
    "### ¿Qué día de la semana compran víveres las personas?"
   ]
  },
  {
   "cell_type": "code",
   "execution_count": 38,
   "id": "chief-digit",
   "metadata": {
    "id": "chief-digit"
   },
   "outputs": [
    {
     "data": {
      "image/png": "[encoded data removed]",
      "text/plain": [
       "<Figure size 720x432 with 1 Axes>"
      ]
     },
     "metadata": {
      "needs_background": "light"
     },
     "output_type": "display_data"
    }
   ],
   "source": [
    "dias = ['Lu', 'Ma', 'Mi', 'Ju', 'Vi', 'Sá', 'Do']\n",
    "\n",
    "orders_per_day = orders_sin_pedidos_duplicados.groupby('order_dow')['order_id'].count()\n",
    "\n",
    "\n",
    "plt.figure(figsize=(10, 6))\n",
    "plt.bar(orders_per_day.index, orders_per_day.values, color='skyblue', tick_label=dias)\n",
    "plt.xlabel('Día de la semana')\n",
    "plt.ylabel('Número de pedidos')\n",
    "plt.title('Pedidos X día de la semana')\n",
    "plt.grid(True)\n",
    "plt.show()\n"
   ]
  },
  {
   "cell_type": "markdown",
   "id": "dominant-lightning",
   "metadata": {
    "id": "dominant-lightning"
   },
   "source": [
    "Conclusiones\n",
    "\n",
    "El día de la semana en que más viveres compra la gente es el Lunes  "
   ]
  },
  {
   "cell_type": "markdown",
   "id": "cutting-concert",
   "metadata": {
    "id": "cutting-concert"
   },
   "source": [
    "### ¿Cuánto tiempo esperan las personas hasta hacer otro pedido? Comenta sobre los valores mínimos y máximos."
   ]
  },
  {
   "cell_type": "code",
   "execution_count": 39,
   "id": "c231f523",
   "metadata": {
    "id": "c231f523"
   },
   "outputs": [
    {
     "data": {
      "image/png": "[encoded data removed]",
      "text/plain": [
       "<Figure size 720x432 with 1 Axes>"
      ]
     },
     "metadata": {
      "needs_background": "light"
     },
     "output_type": "display_data"
    }
   ],
   "source": [
    "\n",
    "average_wait_time = orders_sin_pedidos_duplicados.groupby('user_id')['days_since_prior_order'].mean()\n",
    "\n",
    "min_wait = average_wait_time.min()\n",
    "max_wait = average_wait_time.max()\n",
    "\n",
    "plt.figure(figsize=(10, 6))\n",
    "plt.hist(average_wait_time, bins=30, color='skyblue', edgecolor='black')\n",
    "plt.xlabel('Tiempo de espera promedio (días)')\n",
    "plt.ylabel('Número de usuarios')\n",
    "plt.title('Días de espera promedio hasta el siguiente pedido')\n",
    "\n",
    "plt.legend([f'Mínimo: {min_wait} días', f'Máximo: {max_wait} días'])\n",
    "\n",
    "plt.grid(True)\n",
    "plt.show()"
   ]
  },
  {
   "cell_type": "markdown",
   "id": "discrete-vertex",
   "metadata": {
    "id": "discrete-vertex"
   },
   "source": [
    "Conclusiones\n",
    "\n",
    "La gente en su mayoria hace compras mensuales por la aplicación"
   ]
  },
  {
   "cell_type": "markdown",
   "id": "tight-staff",
   "metadata": {
    "id": "tight-staff"
   },
   "source": [
    "# Intermedio (deben completarse todos para aprobar)\n",
    "\n",
    "1. ¿Existe alguna diferencia entre las distribuciones `'order_hour_of_day'` de los miércoles y los sábados? Traza gráficos de barra de `'order_hour_of_day'` para ambos días en la misma figura y describe las diferencias que observes.\n",
    "2. Grafica la distribución para el número de órdenes que hacen los clientes (es decir, cuántos clientes hicieron solo 1 pedido, cuántos hicieron 2, cuántos 3, y así sucesivamente...).\n",
    "3. ¿Cuáles son los 20 principales productos que se piden con más frecuencia (muestra su identificación y nombre)?"
   ]
  },
  {
   "cell_type": "markdown",
   "id": "packed-classic",
   "metadata": {
    "id": "packed-classic"
   },
   "source": [
    "### Diferencia entre miércoles y sábados para  `'order_hour_of_day'`. Traza gráficos de barra para los dos días y describe las diferencias que veas."
   ]
  },
  {
   "cell_type": "code",
   "execution_count": 40,
   "id": "d89b8403",
   "metadata": {
    "id": "d89b8403",
    "scrolled": true
   },
   "outputs": [
    {
     "data": {
      "image/png": "[encoded data removed]",
      "text/plain": [
       "<Figure size 432x288 with 1 Axes>"
      ]
     },
     "metadata": {
      "needs_background": "light"
     },
     "output_type": "display_data"
    }
   ],
   "source": [
    "\n",
    "orders_dow_3 = orders_sin_pedidos_duplicados[orders_sin_pedidos_duplicados['order_dow'] == 3]\n",
    "\n",
    "hour_counts = orders_dow_3['order_hour_of_day'].value_counts().sort_index()\n",
    "\n",
    "plt.bar(hour_counts.index, hour_counts.values)\n",
    "\n",
    "plt.xlabel('Hora del día')\n",
    "plt.ylabel('Número de ordenes')\n",
    "plt.title('Relación entre ordenes del Miercoles y Hora dela orden')\n",
    "plt.show()"
   ]
  },
  {
   "cell_type": "code",
   "execution_count": 41,
   "id": "94e54e8a",
   "metadata": {
    "id": "94e54e8a"
   },
   "outputs": [
    {
     "data": {
      "image/png": "[encoded data removed]",
      "text/plain": [
       "<Figure size 432x288 with 1 Axes>"
      ]
     },
     "metadata": {
      "needs_background": "light"
     },
     "output_type": "display_data"
    }
   ],
   "source": [
    "\n",
    "orders_dow_6 = orders_sin_pedidos_duplicados[orders_sin_pedidos_duplicados['order_dow'] == 3]\n",
    "\n",
    "hour_counts = orders_dow_6['order_hour_of_day'].value_counts().sort_index()\n",
    "\n",
    "plt.bar(hour_counts.index, hour_counts.values)\n",
    "\n",
    "plt.xlabel('Hora del día')\n",
    "plt.ylabel('Número de ordenes')\n",
    "plt.title('Relación entre ordenes del Sábado y Hora de la orden')\n",
    "plt.show()"
   ]
  },
  {
   "cell_type": "code",
   "execution_count": 42,
   "id": "797c90a8",
   "metadata": {
    "id": "797c90a8"
   },
   "outputs": [
    {
     "data": {
      "image/png": "[encoded data removed]",
      "text/plain": [
       "<Figure size 432x288 with 1 Axes>"
      ]
     },
     "metadata": {
      "needs_background": "light"
     },
     "output_type": "display_data"
    }
   ],
   "source": [
    "orders_dow_3 = orders_sin_pedidos_duplicados[orders_sin_pedidos_duplicados['order_dow'] == 3]\n",
    "hour_counts_3 = orders_dow_3['order_hour_of_day'].value_counts().sort_index()\n",
    "\n",
    "\n",
    "orders_dow_6 = orders_sin_pedidos_duplicados[orders_sin_pedidos_duplicados['order_dow'] == 6]\n",
    "hour_counts_6 = orders_dow_6['order_hour_of_day'].value_counts().sort_index()\n",
    "\n",
    "\n",
    "plt.plot(hour_counts_3.index, hour_counts_3.values, label='Miercoles')\n",
    "\n",
    "\n",
    "plt.plot(hour_counts_6.index, hour_counts_6.values, label='Sabado')\n",
    "\n",
    "plt.xlabel('Hora del día')\n",
    "plt.ylabel('Número de ordenes')\n",
    "plt.title('Relación entre ordenes y Hora de la orden')\n",
    "plt.legend()\n",
    "plt.show()\n",
    "\n",
    "\n"
   ]
  },
  {
   "cell_type": "code",
   "execution_count": null,
   "id": "35bcea30",
   "metadata": {
    "id": "35bcea30"
   },
   "outputs": [],
   "source": []
  },
  {
   "cell_type": "markdown",
   "id": "charitable-congo",
   "metadata": {
    "id": "charitable-congo"
   },
   "source": [
    "Conclusiones\n",
    "\n",
    "Se puede ver que el Sábado hay más pedido que el día miércoles y que hace una curva tipo campana invertida más regular, en cambio, el miércoles no solo se hacen menos pedidos sino que también hay un pick a las 10:00 luego bajón y casi llegando a las 15:00 hrs sube nuevamente para ir decayendo de forma regular"
   ]
  },
  {
   "cell_type": "markdown",
   "id": "e3891143",
   "metadata": {
    "id": "e3891143"
   },
   "source": [
    "### ¿Cuál es la distribución para el número de pedidos por cliente?"
   ]
  },
  {
   "cell_type": "code",
   "execution_count": 43,
   "id": "d8c26c23",
   "metadata": {
    "id": "d8c26c23"
   },
   "outputs": [
    {
     "data": {
      "image/png": "[encoded data removed]",
      "text/plain": [
       "<Figure size 432x288 with 1 Axes>"
      ]
     },
     "metadata": {
      "needs_background": "light"
     },
     "output_type": "display_data"
    }
   ],
   "source": [
    "order_counts = orders_sin_pedidos_duplicados.groupby('user_id')['order_number'].max()\n",
    "\n",
    "user_counts = order_counts.value_counts().sort_index()\n",
    "\n",
    "plt.bar(user_counts.index, user_counts.values)\n",
    "\n",
    "plt.xlabel('Número de ordenes')\n",
    "plt.ylabel('Numero de Usuarios')\n",
    "plt.title('Distribución de numero de ordenes x usuario')\n",
    "plt.show()"
   ]
  },
  {
   "cell_type": "markdown",
   "id": "d2eff7d5",
   "metadata": {
    "id": "d2eff7d5"
   },
   "source": [
    "conclusiones\n",
    "\n",
    "La verdad aqui se ve qué no son muchos lo productos que repiten usuarios que hagan más de una orden, eso puede darnos un indicativo por ejemplo que es es fácil armar un carrito en la web, ya que pocos clientes necesitan ordenar nuevamente por algo olvidado."
   ]
  },
  {
   "cell_type": "markdown",
   "id": "54a0319c",
   "metadata": {
    "id": "54a0319c"
   },
   "source": [
    "### ¿Cuáles son los 20 productos más populares (muestra su ID y nombre)?"
   ]
  },
  {
   "cell_type": "code",
   "execution_count": 44,
   "id": "exterior-arizona",
   "metadata": {
    "id": "exterior-arizona",
    "scrolled": true
   },
   "outputs": [
    {
     "name": "stdout",
     "output_type": "stream",
     "text": [
      "    product_id              product_name\n",
      "0        24852                    Banana\n",
      "1        13176    Bag of Organic Bananas\n",
      "2        21137      Organic Strawberries\n",
      "3        21903      Organic Baby Spinach\n",
      "4        47209      Organic Hass Avocado\n",
      "5        47766           Organic Avocado\n",
      "6        47626               Large Lemon\n",
      "7        16797              Strawberries\n",
      "8        26209                     Limes\n",
      "9        27845        Organic Whole Milk\n",
      "10       27966       Organic Raspberries\n",
      "11       22935      Organic Yellow Onion\n",
      "12       24964            Organic Garlic\n",
      "13       45007          Organic Zucchini\n",
      "14       39275       Organic Blueberries\n",
      "15       49683            Cucumber Kirby\n",
      "16       28204        Organic Fuji Apple\n",
      "17        5876             Organic Lemon\n",
      "18        8277  Apple Honeycrisp Organic\n",
      "19       40706    Organic Grape Tomatoes\n"
     ]
    }
   ],
   "source": [
    "top_20_products = order_products['product_id'].value_counts().head(20).index.tolist()\n",
    "\n",
    "top_20_product_names = products[products['product_id'].isin(top_20_products)][['product_id', 'product_name']]\n",
    "\n",
    "top_20_product_names = top_20_product_names.set_index('product_id').loc[top_20_products].reset_index()\n",
    "\n",
    "print(top_20_product_names)\n"
   ]
  },
  {
   "cell_type": "code",
   "execution_count": 45,
   "id": "universal-facial",
   "metadata": {
    "id": "universal-facial"
   },
   "outputs": [
    {
     "data": {
      "image/png": "[encoded data removed]",
      "text/plain": [
       "<Figure size 720x432 with 1 Axes>"
      ]
     },
     "metadata": {
      "needs_background": "light"
     },
     "output_type": "display_data"
    }
   ],
   "source": [
    "top_20_products = order_products['product_id'].value_counts().head(20)\n",
    "\n",
    "\n",
    "top_20_product_names = products[products['product_id'].isin(top_20_products.index)][['product_id', 'product_name']]\n",
    "top_20_product_names = top_20_product_names.set_index('product_id').loc[top_20_products.index].reset_index()\n",
    "\n",
    "\n",
    "top_20 = pd.DataFrame({'product_name': top_20_product_names['product_name'], 'count': top_20_products.values})\n",
    "\n",
    "\n",
    "plt.figure(figsize=(10,6))\n",
    "plt.barh(top_20['product_name'], top_20['count'], color='skyblue')\n",
    "plt.xlabel('Count')\n",
    "plt.ylabel('Product')\n",
    "plt.title('Productos Top 20')\n",
    "plt.gca().invert_yaxis()  # Invierte el eje y para que el producto más popular esté en la parte superior\n",
    "plt.show()"
   ]
  },
  {
   "cell_type": "markdown",
   "id": "43f8d33c",
   "metadata": {
    "id": "bbcdd20b"
   },
   "source": [
    "<div class=\"alert alert-block alert-success\">\n",
    "<b>Comentario del revisor</b> <a class=\"tocSkip\"></a>\n",
    "\n",
    "Todo en orden en esta sección `B`.\n",
    "</div>"
   ]
  },
  {
   "cell_type": "markdown",
   "id": "7df00f47",
   "metadata": {
    "id": "7df00f47"
   },
   "source": [
    "Es gente muy saludable la que usa esta plataforma, las frutas y y verduras organicas estanb en los Top20"
   ]
  },
  {
   "cell_type": "markdown",
   "id": "romantic-deposit",
   "metadata": {
    "id": "romantic-deposit"
   },
   "source": [
    "¿Cuántos artículos compran normalmente las personas en un pedido? ¿Cómo es la distribución?"
   ]
  },
  {
   "cell_type": "code",
   "execution_count": 46,
   "id": "virtual-punch",
   "metadata": {
    "id": "virtual-punch"
   },
   "outputs": [
    {
     "name": "stdout",
     "output_type": "stream",
     "text": [
      "count    450046.0\n",
      "mean         10.1\n",
      "std           7.5\n",
      "min           1.0\n",
      "25%           5.0\n",
      "50%           8.0\n",
      "75%          14.0\n",
      "max         127.0\n",
      "Name: product_id, dtype: float64\n"
     ]
    }
   ],
   "source": [
    "# Combiné  el DF order_products y \"orders_sin_pedidos_duplicados\" que es donde esta depurado el df \"instacart_orders.csv\" en la variable, \"ordenes_totales\"\n",
    "\n",
    "ordenes_totales = pd.merge(order_products, orders_sin_pedidos_duplicados, on='order_id')\n",
    "\n",
    "\n",
    "conteo_ordenes= ordenes_totales.groupby('order_id')['product_id'].count()\n",
    "\n",
    "\n",
    "print(conteo_ordenes.describe().round(1))\n"
   ]
  },
  {
   "cell_type": "code",
   "execution_count": 47,
   "id": "sensitive-breathing",
   "metadata": {
    "id": "sensitive-breathing"
   },
   "outputs": [
    {
     "data": {
      "image/png": "[encoded data removed]",
      "text/plain": [
       "<Figure size 432x288 with 1 Axes>"
      ]
     },
     "metadata": {
      "needs_background": "light"
     },
     "output_type": "display_data"
    }
   ],
   "source": [
    "ordenes_totales = pd.merge(order_products, orders_sin_pedidos_duplicados, on='order_id')\n",
    "\n",
    "\n",
    "conteo_ordenes = ordenes_totales.groupby('order_id')['product_id'].count()\n",
    "\n",
    "# Mostrar la distribución\n",
    "plt.hist(order_counts, bins=30)\n",
    "plt.xlabel('Número de artículos por pedido')\n",
    "plt.ylabel('Número de pedidos')\n",
    "plt.title('Distribución del número de artículos por pedido')\n",
    "plt.show()"
   ]
  },
  {
   "cell_type": "markdown",
   "id": "5e6b5537",
   "metadata": {
    "id": "5e6b5537"
   },
   "source": [
    "### ¿Cuáles son los 20 principales artículos que vuelven a pedirse con mayor frecuencia (muestra sus nombres e IDs de los productos)?"
   ]
  },
  {
   "cell_type": "code",
   "execution_count": 48,
   "id": "9374e55a",
   "metadata": {
    "id": "9374e55a"
   },
   "outputs": [
    {
     "name": "stdout",
     "output_type": "stream",
     "text": [
      "                        product_name  count\n",
      "product_id                                 \n",
      "24852                         Banana  55763\n",
      "13176         Bag of Organic Bananas  44450\n",
      "21137           Organic Strawberries  28639\n",
      "21903           Organic Baby Spinach  26233\n",
      "47209           Organic Hass Avocado  23629\n",
      "47766                Organic Avocado  18743\n",
      "27845             Organic Whole Milk  16251\n",
      "47626                    Large Lemon  15044\n",
      "27966            Organic Raspberries  14748\n",
      "16797                   Strawberries  13945\n",
      "26209                          Limes  13327\n",
      "22935           Organic Yellow Onion  11145\n",
      "24964                 Organic Garlic  10411\n",
      "45007               Organic Zucchini  10076\n",
      "49683                 Cucumber Kirby   9538\n",
      "28204             Organic Fuji Apple   8989\n",
      "8277        Apple Honeycrisp Organic   8836\n",
      "39275            Organic Blueberries   8799\n",
      "5876                   Organic Lemon   8412\n",
      "49235            Organic Half & Half   8389\n"
     ]
    }
   ],
   "source": [
    "reordered_products = order_products[order_products['reordered'] == 1]\n",
    "\n",
    "\n",
    "product_counts = reordered_products['product_id'].value_counts()\n",
    "\n",
    "\n",
    "top_20_product_ids = product_counts.head(20).index\n",
    "\n",
    "\n",
    "top_20_products = products[products['product_id'].isin(top_20_product_ids)]\n",
    "\n",
    "\n",
    "top_20_products = top_20_products.set_index('product_id')\n",
    "top_20_products['count'] = product_counts\n",
    "\n",
    "\n",
    "top_20_products = top_20_products.sort_values('count', ascending=False)\n",
    "\n",
    "\n",
    "top_20_products = top_20_products[['product_name', 'count']]\n",
    "\n",
    "print(top_20_products)"
   ]
  },
  {
   "cell_type": "markdown",
   "id": "9d312b14",
   "metadata": {
    "id": "9d312b14"
   },
   "source": [
    "### Para cada producto, ¿cuál es la proporción de las veces que se pide y que se vuelve a pedir?\n"
   ]
  },
  {
   "cell_type": "code",
   "execution_count": 49,
   "id": "8ae9f4b1",
   "metadata": {
    "id": "8ae9f4b1"
   },
   "outputs": [
    {
     "name": "stdout",
     "output_type": "stream",
     "text": [
      "       product_id  reorder_ratio  \\\n",
      "0               1       0.564286   \n",
      "1               2            NaN   \n",
      "2               3       0.738095   \n",
      "3               4       0.510204   \n",
      "4               7       0.500000   \n",
      "...           ...            ...   \n",
      "45568       49690       0.800000   \n",
      "45569       49691       0.430556   \n",
      "45570       49692       0.416667   \n",
      "45571       49693       0.440000   \n",
      "45572       49694       0.333333   \n",
      "\n",
      "                                            product_name  aisle_id  \\\n",
      "0                             Chocolate Sandwich Cookies        61   \n",
      "1                                       All-Seasons Salt       104   \n",
      "2                   Robust Golden Unsweetened Oolong Tea        94   \n",
      "3      Smart Ones Classic Favorites Mini Rigatoni Wit...        38   \n",
      "4                         Pure Coconut Water With Orange        98   \n",
      "...                                                  ...       ...   \n",
      "45568                      HIGH PERFORMANCE ENERGY DRINK        64   \n",
      "45569                      ORIGINAL PANCAKE & WAFFLE MIX       130   \n",
      "45570    ORGANIC INSTANT OATMEAL LIGHT MAPLE BROWN SUGAR       130   \n",
      "45571                             SPRING WATER BODY WASH       127   \n",
      "45572                            BURRITO- STEAK & CHEESE        38   \n",
      "\n",
      "       department_id  \n",
      "0                 19  \n",
      "1                 13  \n",
      "2                  7  \n",
      "3                  1  \n",
      "4                  7  \n",
      "...              ...  \n",
      "45568              7  \n",
      "45569             14  \n",
      "45570             14  \n",
      "45571             11  \n",
      "45572              1  \n",
      "\n",
      "[45573 rows x 5 columns]\n"
     ]
    }
   ],
   "source": [
    "total_orders = order_products['product_id'].value_counts()\n",
    "\n",
    "reordered_products = order_products[order_products['reordered'] == 1]\n",
    "\n",
    "\n",
    "reorder_counts = reordered_products['product_id'].value_counts()\n",
    "\n",
    "reorder_proporcion = reorder_counts / total_orders\n",
    "\n",
    "reorder_proporcion_df = pd.DataFrame({'product_id': reorder_proporcion.index, 'reorder_ratio': reorder_proporcion.values})\n",
    "\n",
    "reorder_proporcion_df = reorder_proporcion_df.merge(products, on='product_id')\n",
    "\n",
    "\n",
    "print(reorder_proporcion_df)\n"
   ]
  },
  {
   "cell_type": "code",
   "execution_count": 50,
   "id": "103e7fe1",
   "metadata": {
    "id": "103e7fe1"
   },
   "outputs": [
    {
     "data": {
      "image/png": "[encoded data removed]",
      "text/plain": [
       "<Figure size 432x288 with 1 Axes>"
      ]
     },
     "metadata": {
      "needs_background": "light"
     },
     "output_type": "display_data"
    }
   ],
   "source": [
    "# Mostrar la distribución\n",
    "plt.hist(reorder_proporcion_df['reorder_ratio'], bins=30, edgecolor='black')\n",
    "plt.xlabel('Proporción de reordenamiento')\n",
    "plt.ylabel('Número de productos')\n",
    "plt.title('Distribución de la proporción de reordenamiento')\n",
    "plt.show()"
   ]
  },
  {
   "cell_type": "markdown",
   "id": "subject-boxing",
   "metadata": {
    "id": "subject-boxing"
   },
   "source": [
    "### Para cada cliente, ¿qué proporción de sus productos ya los había pedido?"
   ]
  },
  {
   "cell_type": "code",
   "execution_count": 51,
   "id": "medical-couple",
   "metadata": {
    "id": "medical-couple",
    "scrolled": true
   },
   "outputs": [
    {
     "name": "stdout",
     "output_type": "stream",
     "text": [
      "user_id\n",
      "2         0.038462\n",
      "4         0.000000\n",
      "5         0.666667\n",
      "6         0.000000\n",
      "7         0.928571\n",
      "            ...   \n",
      "206203    0.222222\n",
      "206206    0.714286\n",
      "206207    0.891304\n",
      "206208    0.696000\n",
      "206209    0.320000\n",
      "Name: reorder_ratio, Length: 149626, dtype: float64\n"
     ]
    }
   ],
   "source": [
    "#Aquí use el Df que habia fusionado antes \"ordenes_totales\"\n",
    "user_product_counts = ordenes_totales.groupby(['user_id', 'reordered'])['product_id'].count().unstack(fill_value=0)\n",
    "\n",
    "user_product_counts['reorder_ratio'] = user_product_counts[1] / (user_product_counts[0] + user_product_counts[1])\n",
    "\n",
    "print(user_product_counts['reorder_ratio'])\n"
   ]
  },
  {
   "cell_type": "code",
   "execution_count": 52,
   "id": "8892e4b4",
   "metadata": {
    "id": "8892e4b4"
   },
   "outputs": [
    {
     "data": {
      "image/png": "[encoded data removed]",
      "text/plain": [
       "<Figure size 432x288 with 1 Axes>"
      ]
     },
     "metadata": {
      "needs_background": "light"
     },
     "output_type": "display_data"
    }
   ],
   "source": [
    "plt.hist(user_product_counts['reorder_ratio'], bins=30, edgecolor='black')\n",
    "plt.xlabel('Proporción de reordenamiento')\n",
    "plt.ylabel('Número de usuarios')\n",
    "plt.title('Distribución de la proporción de reordenamiento por usuario')\n",
    "plt.show()\n"
   ]
  },
  {
   "cell_type": "markdown",
   "id": "92d35137",
   "metadata": {
    "id": "92d35137"
   },
   "source": [
    "### ¿Cuáles son los 20 principales artículos que las personas ponen primero en sus carritos?"
   ]
  },
  {
   "cell_type": "code",
   "execution_count": 53,
   "id": "0ae57274",
   "metadata": {
    "id": "0ae57274",
    "scrolled": true
   },
   "outputs": [
    {
     "name": "stdout",
     "output_type": "stream",
     "text": [
      "       product_id                 product_name\n",
      "195           196                         Soda\n",
      "5784         5785  Organic Reduced Fat 2% Milk\n",
      "12340       12341                Hass Avocados\n",
      "13175       13176       Bag of Organic Bananas\n",
      "16796       16797                 Strawberries\n",
      "19659       19660                 Spring Water\n",
      "21136       21137         Organic Strawberries\n",
      "21902       21903         Organic Baby Spinach\n",
      "22934       22935         Organic Yellow Onion\n",
      "24851       24852                       Banana\n",
      "26208       26209                        Limes\n",
      "27085       27086                  Half & Half\n",
      "27844       27845           Organic Whole Milk\n",
      "27965       27966          Organic Raspberries\n",
      "38688       38689     Organic Reduced Fat Milk\n",
      "44631       44632   Sparkling Water Grapefruit\n",
      "47208       47209         Organic Hass Avocado\n",
      "47625       47626                  Large Lemon\n",
      "47765       47766              Organic Avocado\n",
      "49234       49235          Organic Half & Half\n"
     ]
    }
   ],
   "source": [
    "primeros_añadidos = order_products[order_products['add_to_cart_order'] == 1]\n",
    "\n",
    "# Encuentra los 20 product_id más populares para los artículos que fueron agregados primero al carrito\n",
    "top_20_del_carrito = primeros_añadidos['product_id'].value_counts().head(20).index.tolist()\n",
    "\n",
    "# Luego, utiliza estos product_id para obtener sus nombres del data frame 'products'\n",
    "top_20_del_carrito_nombres = products[products['product_id'].isin(top_20_del_carrito)][['product_id', 'product_name']]\n",
    "\n",
    "# Ordena los productos por su popularidad\n",
    "top_20_del_carrito_nombre = top_20_del_carrito_nombres.set_index('product_id').loc[top_20_del_carrito].reset_index()\n",
    "\n",
    "print(top_20_del_carrito_nombres)"
   ]
  },
  {
   "cell_type": "code",
   "execution_count": 54,
   "id": "forty-netherlands",
   "metadata": {
    "id": "forty-netherlands",
    "scrolled": true
   },
   "outputs": [
    {
     "data": {
      "image/png": "[encoded data removed]",
      "text/plain": [
       "<Figure size 720x432 with 1 Axes>"
      ]
     },
     "metadata": {
      "needs_background": "light"
     },
     "output_type": "display_data"
    }
   ],
   "source": [
    "primeros_añadidos = order_products[order_products['add_to_cart_order'] == 1]\n",
    "top_20_del_carrito = primeros_añadidos['product_id'].value_counts().head(20)\n",
    "\n",
    "top_20_del_carrito_nombres = products[products['product_id'].isin(top_20_del_carrito.index)][['product_id', 'product_name']]\n",
    "top_20_del_carrito_nombres = top_20_del_carrito_nombres.set_index('product_id').loc[top_20_del_carrito.index].reset_index()\n",
    "\n",
    "top_20 = pd.DataFrame({'product_name': top_20_del_carrito_nombres['product_name'], 'count': top_20_del_carrito.values})\n",
    "\n",
    "\n",
    "plt.figure(figsize=(10,6))\n",
    "plt.barh(top_20['product_name'], top_20['count'], color='skyblue')\n",
    "plt.xlabel('Count')\n",
    "plt.ylabel('Producto')\n",
    "plt.title('Top 20 Agregados Al Carro')\n",
    "plt.gca().invert_yaxis() \n",
    "plt.show()"
   ]
  },
  {
   "cell_type": "markdown",
   "id": "28ce9872",
   "metadata": {
    "id": "28ce9872"
   },
   "source": [
    "Esto reafirma los anteriores top 20"
   ]
  },
  {
   "cell_type": "markdown",
   "id": "uITbFCEoDosC",
   "metadata": {
    "id": "uITbFCEoDosC"
   },
   "source": [
    "### Conclusion general del proyecto:\n",
    "\n",
    "Las personas que usan esta aplicación en general son muy eficientes y organizadas con sus compras, eso se nota en que la mayoria solo pide una vez al mes\n",
    "y haciendo una compra sola compra grande y planeada en lugar de muchas compras pequeñas, ademas se preocupan por la alimentacion, como se refleja en los\n",
    "alimentos top de ventas los cuales son frutas y productos organicos"
   ]
  }
 ],
 "metadata": {
  "colab": {
   "provenance": []
  },
  "kernelspec": {
   "display_name": "Python 3 (ipykernel)",
   "language": "python",
   "name": "python3"
  },
  "language_info": {
   "codemirror_mode": {
    "name": "ipython",
    "version": 3
   },
   "file_extension": ".py",
   "mimetype": "text/x-python",
   "name": "python",
   "nbconvert_exporter": "python",
   "pygments_lexer": "ipython3",
   "version": "3.9.19"
  },
  "toc": {
   "base_numbering": 1,
   "nav_menu": {},
   "number_sections": true,
   "sideBar": true,
   "skip_h1_title": true,
   "title_cell": "Table of Contents",
   "title_sidebar": "Contents",
   "toc_cell": false,
   "toc_position": {},
   "toc_section_display": true,
   "toc_window_display": false
  },
  "vscode": {
   "interpreter": {
    "hash": "01a7be9ec63e704a62cefc5fe7a4756944464ee731be31632bdf42a4cb4688cf"
   }
  }
 },
 "nbformat": 4,
 "nbformat_minor": 5
}
